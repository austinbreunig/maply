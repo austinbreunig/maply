{
 "cells": [
  {
   "cell_type": "markdown",
   "metadata": {},
   "source": [
    "### Introduction: Point to Polygon Intersection and Plot"
   ]
  },
  {
   "cell_type": "code",
   "execution_count": 1,
   "metadata": {},
   "outputs": [],
   "source": [
    "import pandas as pd\n",
    "from maply.geometry import Point, Polygon\n",
    "from maply.plot import Map"
   ]
  },
  {
   "cell_type": "markdown",
   "metadata": {},
   "source": [
    "Points to Geodataframe"
   ]
  },
  {
   "cell_type": "code",
   "execution_count": 2,
   "metadata": {},
   "outputs": [
    {
     "data": {
      "text/html": [
       "<div>\n",
       "<style scoped>\n",
       "    .dataframe tbody tr th:only-of-type {\n",
       "        vertical-align: middle;\n",
       "    }\n",
       "\n",
       "    .dataframe tbody tr th {\n",
       "        vertical-align: top;\n",
       "    }\n",
       "\n",
       "    .dataframe thead th {\n",
       "        text-align: right;\n",
       "    }\n",
       "</style>\n",
       "<table border=\"1\" class=\"dataframe\">\n",
       "  <thead>\n",
       "    <tr style=\"text-align: right;\">\n",
       "      <th></th>\n",
       "      <th>name</th>\n",
       "      <th>geometry</th>\n",
       "    </tr>\n",
       "  </thead>\n",
       "  <tbody>\n",
       "    <tr>\n",
       "      <th>0</th>\n",
       "      <td>point1</td>\n",
       "      <td>POINT (2 2)</td>\n",
       "    </tr>\n",
       "    <tr>\n",
       "      <th>1</th>\n",
       "      <td>point2</td>\n",
       "      <td>POINT (3 4)</td>\n",
       "    </tr>\n",
       "    <tr>\n",
       "      <th>2</th>\n",
       "      <td>point3</td>\n",
       "      <td>POINT (4 4)</td>\n",
       "    </tr>\n",
       "    <tr>\n",
       "      <th>3</th>\n",
       "      <td>point4</td>\n",
       "      <td>POINT (5 2)</td>\n",
       "    </tr>\n",
       "    <tr>\n",
       "      <th>4</th>\n",
       "      <td>point5</td>\n",
       "      <td>POINT (4 1)</td>\n",
       "    </tr>\n",
       "  </tbody>\n",
       "</table>\n",
       "</div>"
      ],
      "text/plain": [
       "     name     geometry\n",
       "0  point1  POINT (2 2)\n",
       "1  point2  POINT (3 4)\n",
       "2  point3  POINT (4 4)\n",
       "3  point4  POINT (5 2)\n",
       "4  point5  POINT (4 1)"
      ]
     },
     "execution_count": 2,
     "metadata": {},
     "output_type": "execute_result"
    }
   ],
   "source": [
    "lst_of_points = [\n",
    "    Point((2, 2), data={\"name\": \"point1\"}),\n",
    "    Point((3, 4), data={\"name\": \"point2\"}),\n",
    "    Point((4, 4), data={\"name\": \"point3\"}),\n",
    "    Point((5, 2), data={\"name\": \"point4\"}),\n",
    "    Point((4, 1), data={\"name\": \"point5\"})\n",
    "]\n",
    "\n",
    "point_gdf = pd.concat([point.to_gdf() for point in lst_of_points], ignore_index=True)\n",
    "point_gdf"
   ]
  },
  {
   "cell_type": "markdown",
   "metadata": {},
   "source": [
    "Polygons to Geodataframe"
   ]
  },
  {
   "cell_type": "code",
   "execution_count": 13,
   "metadata": {},
   "outputs": [
    {
     "data": {
      "text/html": [
       "<div>\n",
       "<style scoped>\n",
       "    .dataframe tbody tr th:only-of-type {\n",
       "        vertical-align: middle;\n",
       "    }\n",
       "\n",
       "    .dataframe tbody tr th {\n",
       "        vertical-align: top;\n",
       "    }\n",
       "\n",
       "    .dataframe thead th {\n",
       "        text-align: right;\n",
       "    }\n",
       "</style>\n",
       "<table border=\"1\" class=\"dataframe\">\n",
       "  <thead>\n",
       "    <tr style=\"text-align: right;\">\n",
       "      <th></th>\n",
       "      <th>name</th>\n",
       "      <th>geometry</th>\n",
       "    </tr>\n",
       "  </thead>\n",
       "  <tbody>\n",
       "    <tr>\n",
       "      <th>0</th>\n",
       "      <td>polygon1</td>\n",
       "      <td>POLYGON ((1 1, 2 1, 2 2, 1 2, 1 1))</td>\n",
       "    </tr>\n",
       "    <tr>\n",
       "      <th>1</th>\n",
       "      <td>polygon2</td>\n",
       "      <td>POLYGON ((3 4, 4 4, 4 5, 3 5, 3 4))</td>\n",
       "    </tr>\n",
       "    <tr>\n",
       "      <th>2</th>\n",
       "      <td>polygon3</td>\n",
       "      <td>POLYGON ((4 4, 5 4, 5 5, 4 5, 4 4))</td>\n",
       "    </tr>\n",
       "    <tr>\n",
       "      <th>3</th>\n",
       "      <td>polygon4</td>\n",
       "      <td>POLYGON ((5 2, 6 2, 6 3, 5 3, 5 2))</td>\n",
       "    </tr>\n",
       "  </tbody>\n",
       "</table>\n",
       "</div>"
      ],
      "text/plain": [
       "       name                             geometry\n",
       "0  polygon1  POLYGON ((1 1, 2 1, 2 2, 1 2, 1 1))\n",
       "1  polygon2  POLYGON ((3 4, 4 4, 4 5, 3 5, 3 4))\n",
       "2  polygon3  POLYGON ((4 4, 5 4, 5 5, 4 5, 4 4))\n",
       "3  polygon4  POLYGON ((5 2, 6 2, 6 3, 5 3, 5 2))"
      ]
     },
     "execution_count": 13,
     "metadata": {},
     "output_type": "execute_result"
    }
   ],
   "source": [
    "lst_of_polygons = [\n",
    "    Polygon(origin=(1,1), size=(1, 1), data={\"name\": \"polygon1\"}),\n",
    "    Polygon(origin=(3,4), size=(1, 1), data={\"name\": \"polygon2\"}),\n",
    "    Polygon(origin=(4,4), size=(1, 1), data={\"name\": \"polygon3\"}),\n",
    "    Polygon(origin=(5,2), size=(1, 1), data={\"name\": \"polygon4\"}),\n",
    "]\n",
    "\n",
    "polygon_gdf = pd.concat([polygon.to_gdf() for polygon in lst_of_polygons], ignore_index=True)\n",
    "polygon_gdf"
   ]
  },
  {
   "cell_type": "markdown",
   "metadata": {},
   "source": [
    "Spatially Join Point to Polygons"
   ]
  },
  {
   "cell_type": "code",
   "execution_count": 4,
   "metadata": {},
   "outputs": [
    {
     "data": {
      "text/html": [
       "<div>\n",
       "<style scoped>\n",
       "    .dataframe tbody tr th:only-of-type {\n",
       "        vertical-align: middle;\n",
       "    }\n",
       "\n",
       "    .dataframe tbody tr th {\n",
       "        vertical-align: top;\n",
       "    }\n",
       "\n",
       "    .dataframe thead th {\n",
       "        text-align: right;\n",
       "    }\n",
       "</style>\n",
       "<table border=\"1\" class=\"dataframe\">\n",
       "  <thead>\n",
       "    <tr style=\"text-align: right;\">\n",
       "      <th></th>\n",
       "      <th>name_left</th>\n",
       "      <th>geometry</th>\n",
       "      <th>index_right</th>\n",
       "      <th>name_right</th>\n",
       "    </tr>\n",
       "  </thead>\n",
       "  <tbody>\n",
       "    <tr>\n",
       "      <th>0</th>\n",
       "      <td>point1</td>\n",
       "      <td>POINT (2 2)</td>\n",
       "      <td>0</td>\n",
       "      <td>polygon1</td>\n",
       "    </tr>\n",
       "    <tr>\n",
       "      <th>2</th>\n",
       "      <td>point3</td>\n",
       "      <td>POINT (4 4)</td>\n",
       "      <td>1</td>\n",
       "      <td>polygon2</td>\n",
       "    </tr>\n",
       "  </tbody>\n",
       "</table>\n",
       "</div>"
      ],
      "text/plain": [
       "  name_left     geometry  index_right name_right\n",
       "0    point1  POINT (2 2)            0   polygon1\n",
       "2    point3  POINT (4 4)            1   polygon2"
      ]
     },
     "execution_count": 4,
     "metadata": {},
     "output_type": "execute_result"
    }
   ],
   "source": [
    "p_poly_sjoin = point_gdf.sjoin(polygon_gdf, how=\"inner\", predicate=\"intersects\")\n",
    "p_poly_sjoin"
   ]
  },
  {
   "cell_type": "code",
   "execution_count": 5,
   "metadata": {},
   "outputs": [],
   "source": [
    "# add a new column for labeling the points\n",
    "p_poly_sjoin[\"label\"] = p_poly_sjoin[\"name_left\"] + \" inside: \" + p_poly_sjoin[\"name_right\"]"
   ]
  },
  {
   "cell_type": "code",
   "execution_count": 6,
   "metadata": {},
   "outputs": [],
   "source": [
    "# drop points that joined from original points geodataframe\n",
    "point_gdf = point_gdf[~point_gdf.index.isin(p_poly_sjoin.index)]"
   ]
  },
  {
   "cell_type": "markdown",
   "metadata": {},
   "source": [
    "Create a map and Plot all shapes while labeling our Points"
   ]
  },
  {
   "cell_type": "code",
   "execution_count": 15,
   "metadata": {},
   "outputs": [
    {
     "data": {
      "image/png": "[encoded data removed]",
      "text/plain": [
       "<Figure size 1000x1000 with 1 Axes>"
      ]
     },
     "metadata": {},
     "output_type": "display_data"
    }
   ],
   "source": [
    "m = Map()\n",
    "\n",
    "# POLYGONS\n",
    "m.add_gdf(\n",
    "    gdf=polygon_gdf,\n",
    "    layer='polygons',\n",
    "    # transparent with black edge\n",
    "    style={'facecolor':'none', 'edgecolor':'black'}\n",
    ")\n",
    "\n",
    "# POINTS \n",
    "m.add_gdf(\n",
    "    gdf=point_gdf,\n",
    "    layer='points',\n",
    "    # green points\n",
    "    style={'color':'green'}\n",
    ")\n",
    "\n",
    "# SPATIAL JOINED POINTS\n",
    "m.add_gdf(\n",
    "    gdf=p_poly_sjoin,\n",
    "    layer='points in poly',\n",
    "    # red points\n",
    "    style={'color': 'red'},\n",
    "    label='label',  #column to label\n",
    "    label_kwargs={'fontsize':10, 'color':'red'}\n",
    ")\n",
    "\n",
    "m.plot()"
   ]
  },
  {
   "cell_type": "code",
   "execution_count": 27,
   "metadata": {},
   "outputs": [
    {
     "data": {
      "text/plain": [
       "1    POINT (3 4)\n",
       "3    POINT (5 2)\n",
       "4    POINT (4 1)\n",
       "Name: geometry, dtype: geometry"
      ]
     },
     "execution_count": 27,
     "metadata": {},
     "output_type": "execute_result"
    }
   ],
   "source": [
    "m.layers['points']['shapes'][0]['data'].geometry\n"
   ]
  },
  {
   "cell_type": "markdown",
   "metadata": {},
   "source": []
  }
 ],
 "metadata": {
  "kernelspec": {
   "display_name": "maply_dev",
   "language": "python",
   "name": "python3"
  },
  "language_info": {
   "codemirror_mode": {
    "name": "ipython",
    "version": 3
   },
   "file_extension": ".py",
   "mimetype": "text/x-python",
   "name": "python",
   "nbconvert_exporter": "python",
   "pygments_lexer": "ipython3",
   "version": "3.12.9"
  }
 },
 "nbformat": 4,
 "nbformat_minor": 2
}
