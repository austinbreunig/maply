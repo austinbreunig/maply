{
 "cells": [
  {
   "cell_type": "code",
   "execution_count": 2,
   "metadata": {},
   "outputs": [],
   "source": [
    "from geometry import *"
   ]
  },
  {
   "cell_type": "code",
   "execution_count": 111,
   "metadata": {},
   "outputs": [],
   "source": [
    "from dataclasses import dataclass, field\n",
    "from typing import List, Tuple, Optional, Dict, Any, Union, Callable, Set, TypeVar, Generic, Iterable, Iterator, Sequence, Mapping\n",
    "from shapely.geometry import (\n",
    "    Polygon as ShapelyPolygon, \n",
    "    Point as ShapelyPoint, \n",
    "    LineString as ShapelyLineString, \n",
    "    MultiLineString as ShapelyMultiLineString,\n",
    "    MultiPoint as ShapelyMultiPoint,\n",
    "    MultiPolygon as ShapelyMultiPolygon\n",
    ")\n",
    "import geopandas as gpd\n",
    "import pandas as pd\n",
    "import numpy as np\n",
    "import random\n"
   ]
  },
  {
   "cell_type": "code",
   "execution_count": 137,
   "metadata": {},
   "outputs": [],
   "source": [
    "@dataclass\n",
    "class Shape:\n",
    "    coords: Optional[List[Tuple[float, float]]] = field(default_factory=list)\n",
    "    data: Optional[dict] = field(default_factory=dict)\n",
    "\n",
    "    def to_gdf(self) -> gpd.GeoDataFrame:\n",
    "        \"\"\"Convert shape to a GeoDataFrame.\"\"\"\n",
    "        gdf_dict = self.data or {}  # Use data if provided\n",
    "        gdf_dict[\"geometry\"] = self.geometry\n",
    "        return gpd.GeoDataFrame([gdf_dict])\n",
    "    \n",
    "    @classmethod\n",
    "    def random(cls, shape_type: str = None, bounds: Tuple[int, int] = (0, 100)) -> 'Shape':\n",
    "        \"\"\"Generate a random shape (Point, LineString, or Polygon).\"\"\"\n",
    "        shape_type = shape_type or random.choice([\"point\", \"line\", \"polygon\"])  # Choose randomly if not provided\n",
    "        \n",
    "        if shape_type == \"point\":\n",
    "            return Point(coords=(random.randint(*bounds), random.randint(*bounds)))\n",
    "\n",
    "        elif shape_type == \"line\":\n",
    "            num_points = random.randint(2, 5)  # Random number of line points\n",
    "            coords = [(random.randint(*bounds), random.randint(*bounds)) for _ in range(num_points)]\n",
    "            return Line(coords=coords)\n",
    "\n",
    "        elif shape_type == \"polygon\":\n",
    "            num_points = random.randint(3, 6)  # Random polygon (at least 3 points)\n",
    "            points = []\n",
    "            for _ in range(num_points):\n",
    "                point = Point(coords=(random.randint(*bounds), random.randint(*bounds)))\n",
    "                points.append(point.coords)\n",
    "\n",
    "            coords = list(MultiPoint(points=points).geometry.convex_hull.exterior.coords)  # Create a convex hull to form a polygon\n",
    "\n",
    "            return Polygon(coords=coords)  # Return the convex hull as a polygon\n",
    "\n",
    "        else:\n",
    "            raise ValueError(f\"Unknown shape type: {shape_type}\")\n",
    "        \n",
    "        \n",
    "@dataclass\n",
    "class Polygon(Shape):\n",
    "    origin: Optional[Tuple[float, float]] = field(default=None)\n",
    "    size: Optional[Tuple[float, float]] = field(default=None)\n",
    "    interior : Optional[List[List[float]]] = field(default=None)  # For holes in the polygon\n",
    "    geometry: object = field(init=False)\n",
    "    \n",
    "    def __post_init__(self):\n",
    "        if self.origin is not None and self.size is not None:\n",
    "            self.coords = [\n",
    "                self.origin,\n",
    "                (self.origin[0] + self.size[0], self.origin[1]),\n",
    "                (self.origin[0] + self.size[0], self.origin[1] + self.size[1]),\n",
    "                (self.origin[0], self.origin[1] + self.size[1]),\n",
    "            ]\n",
    "        elif self.coords is not None:\n",
    "            pass  # Use given coords\n",
    "        else:\n",
    "            raise ValueError(\"Must provide either `origin` and `size`, or `coords`.\")\n",
    "        \n",
    "        holes = self.interior or []\n",
    "        self.geometry = ShapelyPolygon(self.coords, holes=holes)\n",
    "\n",
    "    def split_grid(self, rows: int, cols: int) -> List['Polygon']:\n",
    "        \"\"\"Splits the polygon into a grid of `rows x cols` smaller polygons.\"\"\"\n",
    "        if self.size is None or self.origin is None:\n",
    "            raise ValueError(\"Grid splitting requires `origin` and `size`.\")\n",
    "\n",
    "        width, height = self.size[0] / cols, self.size[1] / rows\n",
    "        sub_polygons = []\n",
    "\n",
    "        for i in range(rows):\n",
    "            for j in range(cols):\n",
    "                sub_origin = (self.origin[0] + j * width, self.origin[1] + i * height)\n",
    "                sub_polygons.append(Polygon(origin=sub_origin, size=(width, height)))\n",
    "\n",
    "        return sub_polygons\n",
    "\n",
    "\n",
    "@dataclass\n",
    "class MultiPolygon(Shape):\n",
    "    polygons: List[Union['Polygon', List[List[float]]]] = field(default_factory=list)\n",
    "    geometry: object = field(init=False)\n",
    "    \n",
    "\n",
    "    def __post_init__(self):\n",
    "        \"\"\"Convert input into a valid Shapely MultiPolygon.\"\"\"\n",
    "        processed_polygons = []\n",
    "        \n",
    "        for item in self.polygons:\n",
    "            if isinstance(item, Polygon):  # If a Polygon instance, use its geometry\n",
    "                processed_polygons.append(item.geometry)\n",
    "            elif isinstance(item, list):  # If a list of coordinates, create a Polygon\n",
    "                processed_polygons.append(ShapelyPolygon(item))\n",
    "            else:\n",
    "                raise TypeError(\"MultiPolygon must be initialized with Polygon instances or coordinate lists.\")\n",
    "\n",
    "        self.geometry = ShapelyMultiPolygon(processed_polygons)\n",
    "        geoms = list(self.geometry.geoms)  # Store the coordinates of the MultiPolygon for potential use\n",
    "        self.coords = [list(geom.exterior.coords) for geom in geoms]  # Store the coordinates of the MultiPolygon for potential use\n",
    "\n",
    "\n",
    "\n",
    "@dataclass\n",
    "class Line(Shape):\n",
    "    geometry: object = field(init=False)\n",
    "    def __post_init__(self):\n",
    "        if self.coords is None:\n",
    "            raise ValueError(\"Must provide `coords`.\")\n",
    "        \n",
    "        self.geometry = ShapelyLineString(self.coords)\n",
    "\n",
    "@dataclass\n",
    "class MultiLine(Shape):\n",
    "    lines: List[Union['Line', List[Tuple[float, float]]]] = field(default_factory=list)\n",
    "    geometry: object = field(init=False)\n",
    "    \n",
    "\n",
    "    def __post_init__(self):\n",
    "        \"\"\"Convert input into a valid Shapely MultiLineString.\"\"\"\n",
    "        processed_lines = []\n",
    "        \n",
    "        for item in self.lines:\n",
    "            if isinstance(item, Line):\n",
    "                processed_lines.append(item.geometry)\n",
    "            elif isinstance(item, list):\n",
    "                processed_lines.append(ShapelyLineString(item))\n",
    "            else:\n",
    "                raise TypeError(\"MultiLine must be initialized with Line instances or coordinate lists.\")\n",
    "            \n",
    "        self.geometry = ShapelyMultiLineString(processed_lines)\n",
    "        geoms = list(self.geometry.geoms)  # Store the coordinates of the MultiLineString for potential use\n",
    "        self.coords = [list(geom.coords) for geom in geoms]  # Store the coordinates of the MultiLineString for potential use\n",
    "\n",
    "@dataclass\n",
    "class Point(Shape):\n",
    "    geometry: object = field(init=False)\n",
    "    def __post_init__(self):\n",
    "        if self.coords is None:\n",
    "            raise ValueError(\"Must provide `coords`.\")\n",
    "        \n",
    "        self.geometry = ShapelyPoint(self.coords)\n",
    "\n",
    "@dataclass\n",
    "class MultiPoint(Shape):\n",
    "    points: List[Union['Point', Tuple[float, float]]] = field(default_factory=list)\n",
    "    geometry: object = field(init=False)\n",
    "    \n",
    "\n",
    "    def __post_init__(self):\n",
    "        \"\"\"Convert input into a valid Shapely MultiPoint.\"\"\"\n",
    "        processed_points = []\n",
    "        \n",
    "        for item in self.points:\n",
    "            if isinstance(item, Point):\n",
    "                processed_points.append(item.geometry)\n",
    "            elif isinstance(item, tuple):\n",
    "                processed_points.append(ShapelyPoint(item))\n",
    "            else:\n",
    "                raise TypeError(\"MultiPoint must be initialized with Point instances or coordinate tuples.\")\n",
    "            \n",
    "        self.geometry = ShapelyMultiPoint(processed_points)\n",
    "        geoms = list(self.geometry.geoms)\n",
    "        self.coords = [list(geom.coords) for geom in geoms]\n",
    "\n"
   ]
  },
  {
   "cell_type": "code",
   "execution_count": 143,
   "metadata": {},
   "outputs": [
    {
     "name": "stdout",
     "output_type": "stream",
     "text": [
      "POLYGON ((0 0, 10 0, 10 10, 0 10, 0 0), (2 2, 2 4, 4 4, 4 2, 2 2), (6 6, 6 8, 8 8, 8 6, 6 6))\n"
     ]
    }
   ],
   "source": [
    "# create a polygon with interior coords\n",
    "poly = Polygon(origin=(0, 0), size=(10, 10), interior=[[(2, 2), (2, 4), (4, 4), (4, 2)], [(6, 6), (6, 8), (8, 8), (8, 6)]])\n",
    "print(poly.geometry)"
   ]
  },
  {
   "cell_type": "code",
   "execution_count": 144,
   "metadata": {},
   "outputs": [
    {
     "data": {
      "image/svg+xml": [
       "<svg xmlns=\"http://www.w3.org/2000/svg\" xmlns:xlink=\"http://www.w3.org/1999/xlink\" width=\"100.0\" height=\"100.0\" viewBox=\"-0.4 -0.4 10.8 10.8\" preserveAspectRatio=\"xMinYMin meet\"><g transform=\"matrix(1,0,0,-1,0,10.0)\"><path fill-rule=\"evenodd\" fill=\"#66cc99\" stroke=\"#555555\" stroke-width=\"0.21600000000000003\" opacity=\"0.6\" d=\"M 0.0,0.0 L 10.0,0.0 L 10.0,10.0 L 0.0,10.0 L 0.0,0.0 z M 2.0,2.0 L 2.0,4.0 L 4.0,4.0 L 4.0,2.0 L 2.0,2.0 z M 6.0,6.0 L 6.0,8.0 L 8.0,8.0 L 8.0,6.0 L 6.0,6.0 z\" /></g></svg>"
      ],
      "text/plain": [
       "<POLYGON ((0 0, 10 0, 10 10, 0 10, 0 0), (2 2, 2 4, 4 4, 4 2, 2 2), (6 6, 6 ...>"
      ]
     },
     "execution_count": 144,
     "metadata": {},
     "output_type": "execute_result"
    }
   ],
   "source": [
    "poly.geometry"
   ]
  },
  {
   "cell_type": "code",
   "execution_count": 134,
   "metadata": {},
   "outputs": [
    {
     "data": {
      "text/plain": [
       "[[(0.0, 0.0), (1.0, 1.0)], [(2.0, 2.0), (3.0, 3.0)]]"
      ]
     },
     "execution_count": 134,
     "metadata": {},
     "output_type": "execute_result"
    }
   ],
   "source": [
    "mp = MultiLine(lines=[[(0,0), (1,1)], [(2,2), (3,3)]])\n",
    "mp.coords"
   ]
  },
  {
   "cell_type": "code",
   "execution_count": 127,
   "metadata": {},
   "outputs": [],
   "source": [
    "coords = []\n",
    "for geom in geoms:\n",
    "    coords.append(list(geom.coords))"
   ]
  },
  {
   "cell_type": "code",
   "execution_count": 128,
   "metadata": {},
   "outputs": [
    {
     "data": {
      "text/plain": [
       "[[(0.0, 0.0), (1.0, 1.0)], [(2.0, 2.0), (3.0, 3.0)]]"
      ]
     },
     "execution_count": 128,
     "metadata": {},
     "output_type": "execute_result"
    }
   ],
   "source": [
    "coords"
   ]
  },
  {
   "cell_type": "code",
   "execution_count": 102,
   "metadata": {},
   "outputs": [
    {
     "data": {
      "text/html": [
       "<div>\n",
       "<style scoped>\n",
       "    .dataframe tbody tr th:only-of-type {\n",
       "        vertical-align: middle;\n",
       "    }\n",
       "\n",
       "    .dataframe tbody tr th {\n",
       "        vertical-align: top;\n",
       "    }\n",
       "\n",
       "    .dataframe thead th {\n",
       "        text-align: right;\n",
       "    }\n",
       "</style>\n",
       "<table border=\"1\" class=\"dataframe\">\n",
       "  <thead>\n",
       "    <tr style=\"text-align: right;\">\n",
       "      <th></th>\n",
       "      <th>geometry</th>\n",
       "    </tr>\n",
       "  </thead>\n",
       "  <tbody>\n",
       "    <tr>\n",
       "      <th>0</th>\n",
       "      <td>POINT (73 42)</td>\n",
       "    </tr>\n",
       "    <tr>\n",
       "      <th>1</th>\n",
       "      <td>POINT (52 96)</td>\n",
       "    </tr>\n",
       "    <tr>\n",
       "      <th>2</th>\n",
       "      <td>POINT (33 0)</td>\n",
       "    </tr>\n",
       "    <tr>\n",
       "      <th>3</th>\n",
       "      <td>POINT (61 89)</td>\n",
       "    </tr>\n",
       "    <tr>\n",
       "      <th>4</th>\n",
       "      <td>POINT (66 87)</td>\n",
       "    </tr>\n",
       "    <tr>\n",
       "      <th>5</th>\n",
       "      <td>POINT (3 72)</td>\n",
       "    </tr>\n",
       "    <tr>\n",
       "      <th>6</th>\n",
       "      <td>POINT (11 38)</td>\n",
       "    </tr>\n",
       "    <tr>\n",
       "      <th>7</th>\n",
       "      <td>POINT (30 38)</td>\n",
       "    </tr>\n",
       "    <tr>\n",
       "      <th>8</th>\n",
       "      <td>POINT (94 38)</td>\n",
       "    </tr>\n",
       "    <tr>\n",
       "      <th>9</th>\n",
       "      <td>POINT (21 84)</td>\n",
       "    </tr>\n",
       "  </tbody>\n",
       "</table>\n",
       "</div>"
      ],
      "text/plain": [
       "        geometry\n",
       "0  POINT (73 42)\n",
       "1  POINT (52 96)\n",
       "2   POINT (33 0)\n",
       "3  POINT (61 89)\n",
       "4  POINT (66 87)\n",
       "5   POINT (3 72)\n",
       "6  POINT (11 38)\n",
       "7  POINT (30 38)\n",
       "8  POINT (94 38)\n",
       "9  POINT (21 84)"
      ]
     },
     "execution_count": 102,
     "metadata": {},
     "output_type": "execute_result"
    }
   ],
   "source": [
    "gdf = pd.concat([shape.to_gdf() for shape in geoms], ignore_index=True)\n",
    "gdf"
   ]
  },
  {
   "cell_type": "code",
   "execution_count": 77,
   "metadata": {},
   "outputs": [
    {
     "data": {
      "image/svg+xml": [
       "<svg xmlns=\"http://www.w3.org/2000/svg\" xmlns:xlink=\"http://www.w3.org/1999/xlink\" width=\"100.0\" height=\"100.0\" viewBox=\"0.92 0.92 2.16 2.16\" preserveAspectRatio=\"xMinYMin meet\"><g transform=\"matrix(1,0,0,-1,0,4.0)\"><g><circle cx=\"1.0\" cy=\"1.0\" r=\"0.0648\" stroke=\"#555555\" stroke-width=\"0.0216\" fill=\"#66cc99\" opacity=\"0.6\" /><circle cx=\"3.0\" cy=\"3.0\" r=\"0.0648\" stroke=\"#555555\" stroke-width=\"0.0216\" fill=\"#66cc99\" opacity=\"0.6\" /></g></g></svg>"
      ],
      "text/plain": [
       "<MULTIPOINT ((1 1), (3 3))>"
      ]
     },
     "execution_count": 77,
     "metadata": {},
     "output_type": "execute_result"
    }
   ],
   "source": [
    "mp = MultiPoint(points=[Point(coords=[(1,1)]), Point(coords=[3,3])], data={\"name\": \"multiA\"})\n",
    "mp.geometry"
   ]
  },
  {
   "cell_type": "code",
   "execution_count": 52,
   "metadata": {},
   "outputs": [
    {
     "data": {
      "text/plain": [
       "MultiLine(coords=[], data={}, lines=[Line(coords=[(0, 0), (1, 1)], data={}, geometry=<LINESTRING (0 0, 1 1)>), Line(coords=[(4, 4), (0, 8)], data={}, geometry=<LINESTRING (4 4, 0 8)>)], geometry=<MULTILINESTRING ((0 0, 1 1), (4 4, 0 8))>)"
      ]
     },
     "execution_count": 52,
     "metadata": {},
     "output_type": "execute_result"
    }
   ],
   "source": [
    "ml = MultiLine(lines=[Line(coords=[(0, 0), (1, 1)]), Line(coords=[(4,4), (0, 8)])])\n",
    "ml"
   ]
  },
  {
   "cell_type": "code",
   "execution_count": 53,
   "metadata": {},
   "outputs": [
    {
     "data": {
      "image/svg+xml": [
       "<svg xmlns=\"http://www.w3.org/2000/svg\" xmlns:xlink=\"http://www.w3.org/1999/xlink\" width=\"100.0\" height=\"100.0\" viewBox=\"-0.32 -0.32 4.640000000000001 8.64\" preserveAspectRatio=\"xMinYMin meet\"><g transform=\"matrix(1,0,0,-1,0,8.0)\"><g><polyline fill=\"none\" stroke=\"#66cc99\" stroke-width=\"0.1728\" points=\"0.0,0.0 1.0,1.0\" opacity=\"0.8\" /><polyline fill=\"none\" stroke=\"#66cc99\" stroke-width=\"0.1728\" points=\"4.0,4.0 0.0,8.0\" opacity=\"0.8\" /></g></g></svg>"
      ],
      "text/plain": [
       "<MULTILINESTRING ((0 0, 1 1), (4 4, 0 8))>"
      ]
     },
     "execution_count": 53,
     "metadata": {},
     "output_type": "execute_result"
    }
   ],
   "source": [
    "ml.geometry"
   ]
  },
  {
   "cell_type": "code",
   "execution_count": 46,
   "metadata": {},
   "outputs": [],
   "source": [
    "mp = MultiPolygon(polygons=[\n",
    "    Polygon(coords=[(0, 0), (1, 0), (1, 1), (0, 1)], data={\"name\": \"example_polygon1\"}),\n",
    "    Polygon(coords=[(3,3), (4, 3), (4, 4), (3, 4)], data={\"name\": \"example_polygon2\"})\n",
    "], data={\"name\": \"example_multipolygon\"})"
   ]
  },
  {
   "cell_type": "code",
   "execution_count": 47,
   "metadata": {},
   "outputs": [
    {
     "data": {
      "text/html": [
       "<div>\n",
       "<style scoped>\n",
       "    .dataframe tbody tr th:only-of-type {\n",
       "        vertical-align: middle;\n",
       "    }\n",
       "\n",
       "    .dataframe tbody tr th {\n",
       "        vertical-align: top;\n",
       "    }\n",
       "\n",
       "    .dataframe thead th {\n",
       "        text-align: right;\n",
       "    }\n",
       "</style>\n",
       "<table border=\"1\" class=\"dataframe\">\n",
       "  <thead>\n",
       "    <tr style=\"text-align: right;\">\n",
       "      <th></th>\n",
       "      <th>name</th>\n",
       "      <th>geometry</th>\n",
       "    </tr>\n",
       "  </thead>\n",
       "  <tbody>\n",
       "    <tr>\n",
       "      <th>0</th>\n",
       "      <td>example_multipolygon</td>\n",
       "      <td>MULTIPOLYGON (((0 0, 1 0, 1 1, 0 1, 0 0)), ((3...</td>\n",
       "    </tr>\n",
       "  </tbody>\n",
       "</table>\n",
       "</div>"
      ],
      "text/plain": [
       "                   name                                           geometry\n",
       "0  example_multipolygon  MULTIPOLYGON (((0 0, 1 0, 1 1, 0 1, 0 0)), ((3..."
      ]
     },
     "execution_count": 47,
     "metadata": {},
     "output_type": "execute_result"
    }
   ],
   "source": [
    "mp.to_gdf()"
   ]
  },
  {
   "cell_type": "code",
   "execution_count": 30,
   "metadata": {},
   "outputs": [
    {
     "data": {
      "text/plain": [
       "MultiPolygon(coords=[], data={'name': 'example_multipolygon'}, polygons=[Polygon(coords=[(0, 0), (1, 0), (1, 1), (0, 1)], data={'name': 'example_polygon1'}, origin=None, size=None), Polygon(coords=[(3, 3), (4, 3), (4, 4), (3, 4)], data={'name': 'example_polygon2'}, origin=None, size=None)])"
      ]
     },
     "execution_count": 30,
     "metadata": {},
     "output_type": "execute_result"
    }
   ],
   "source": [
    "mp"
   ]
  },
  {
   "cell_type": "code",
   "execution_count": 34,
   "metadata": {},
   "outputs": [],
   "source": [
    "poly = Polygon(coords=[(0,0), (1,0), (1,1)], data={\"name\": \"square\", \"color\": \"red\", \"size\": 1})"
   ]
  },
  {
   "cell_type": "code",
   "execution_count": 81,
   "metadata": {},
   "outputs": [],
   "source": [
    "sub_polygons = poly.split_grid(3, 3)\n",
    "for i, sub in enumerate(sub_polygons):\n",
    "    random_value = random.randint(0, 100)\n",
    "    sub.data = {\"name\": f\"{i}\", \"color\": \"blue\", \"size\": random_value}"
   ]
  },
  {
   "cell_type": "code",
   "execution_count": 82,
   "metadata": {},
   "outputs": [
    {
     "data": {
      "text/plain": [
       "<Axes: >"
      ]
     },
     "execution_count": 82,
     "metadata": {},
     "output_type": "execute_result"
    },
    {
     "data": {
      "image/png": "[encoded data removed]",
      "text/plain": [
       "<Figure size 640x480 with 1 Axes>"
      ]
     },
     "metadata": {},
     "output_type": "display_data"
    }
   ],
   "source": [
    "\n",
    "all_polys = pd.concat([p.to_gdf() for p in sub_polygons])\n",
    "all_polys = all_polys.reset_index()\n",
    "all_polys.plot('size', cmap='viridis', edgecolor='black')"
   ]
  },
  {
   "cell_type": "code",
   "execution_count": 44,
   "metadata": {},
   "outputs": [],
   "source": [
    "poly.data[\"utils\"] = False"
   ]
  },
  {
   "cell_type": "code",
   "execution_count": 46,
   "metadata": {},
   "outputs": [
    {
     "data": {
      "text/html": [
       "<div>\n",
       "<style scoped>\n",
       "    .dataframe tbody tr th:only-of-type {\n",
       "        vertical-align: middle;\n",
       "    }\n",
       "\n",
       "    .dataframe tbody tr th {\n",
       "        vertical-align: top;\n",
       "    }\n",
       "\n",
       "    .dataframe thead th {\n",
       "        text-align: right;\n",
       "    }\n",
       "</style>\n",
       "<table border=\"1\" class=\"dataframe\">\n",
       "  <thead>\n",
       "    <tr style=\"text-align: right;\">\n",
       "      <th></th>\n",
       "      <th>name</th>\n",
       "      <th>color</th>\n",
       "      <th>size</th>\n",
       "      <th>utils</th>\n",
       "      <th>geometry</th>\n",
       "    </tr>\n",
       "  </thead>\n",
       "  <tbody>\n",
       "    <tr>\n",
       "      <th>0</th>\n",
       "      <td>square</td>\n",
       "      <td>red</td>\n",
       "      <td>1</td>\n",
       "      <td>False</td>\n",
       "      <td>POLYGON ((0 0, 1 0, 1 1, 0 1, 0 0))</td>\n",
       "    </tr>\n",
       "  </tbody>\n",
       "</table>\n",
       "</div>"
      ],
      "text/plain": [
       "     name color  size  utils                             geometry\n",
       "0  square   red     1  False  POLYGON ((0 0, 1 0, 1 1, 0 1, 0 0))"
      ]
     },
     "execution_count": 46,
     "metadata": {},
     "output_type": "execute_result"
    }
   ],
   "source": [
    "poly.to_gdf()"
   ]
  },
  {
   "cell_type": "code",
   "execution_count": 40,
   "metadata": {},
   "outputs": [
    {
     "data": {
      "text/html": [
       "<div>\n",
       "<style scoped>\n",
       "    .dataframe tbody tr th:only-of-type {\n",
       "        vertical-align: middle;\n",
       "    }\n",
       "\n",
       "    .dataframe tbody tr th {\n",
       "        vertical-align: top;\n",
       "    }\n",
       "\n",
       "    .dataframe thead th {\n",
       "        text-align: right;\n",
       "    }\n",
       "</style>\n",
       "<table border=\"1\" class=\"dataframe\">\n",
       "  <thead>\n",
       "    <tr style=\"text-align: right;\">\n",
       "      <th></th>\n",
       "      <th>name</th>\n",
       "      <th>color</th>\n",
       "      <th>size</th>\n",
       "      <th>geometry</th>\n",
       "    </tr>\n",
       "  </thead>\n",
       "  <tbody>\n",
       "    <tr>\n",
       "      <th>0</th>\n",
       "      <td>line</td>\n",
       "      <td>red</td>\n",
       "      <td>2</td>\n",
       "      <td>LINESTRING (0 0, 1 1)</td>\n",
       "    </tr>\n",
       "    <tr>\n",
       "      <th>1</th>\n",
       "      <td>square</td>\n",
       "      <td>red</td>\n",
       "      <td>1</td>\n",
       "      <td>POLYGON ((0 0, 1 0, 1 1, 0 1, 0 0))</td>\n",
       "    </tr>\n",
       "  </tbody>\n",
       "</table>\n",
       "</div>"
      ],
      "text/plain": [
       "     name color  size                             geometry\n",
       "0    line   red     2                LINESTRING (0 0, 1 1)\n",
       "1  square   red     1  POLYGON ((0 0, 1 0, 1 1, 0 1, 0 0))"
      ]
     },
     "execution_count": 40,
     "metadata": {},
     "output_type": "execute_result"
    }
   ],
   "source": [
    "all_shapes = pd.concat([line.to_gdf(), poly.to_gdf()], ignore_index=True)\n",
    "all_shapes"
   ]
  },
  {
   "cell_type": "code",
   "execution_count": 28,
   "metadata": {},
   "outputs": [
    {
     "data": {
      "text/html": [
       "<div>\n",
       "<style scoped>\n",
       "    .dataframe tbody tr th:only-of-type {\n",
       "        vertical-align: middle;\n",
       "    }\n",
       "\n",
       "    .dataframe tbody tr th {\n",
       "        vertical-align: top;\n",
       "    }\n",
       "\n",
       "    .dataframe thead th {\n",
       "        text-align: right;\n",
       "    }\n",
       "</style>\n",
       "<table border=\"1\" class=\"dataframe\">\n",
       "  <thead>\n",
       "    <tr style=\"text-align: right;\">\n",
       "      <th></th>\n",
       "      <th>name</th>\n",
       "      <th>color</th>\n",
       "      <th>size</th>\n",
       "      <th>geometry</th>\n",
       "    </tr>\n",
       "  </thead>\n",
       "  <tbody>\n",
       "    <tr>\n",
       "      <th>0</th>\n",
       "      <td>square</td>\n",
       "      <td>red</td>\n",
       "      <td>1</td>\n",
       "      <td>POLYGON ((0 0, 1 0, 1 1, 0 1, 0 0))</td>\n",
       "    </tr>\n",
       "  </tbody>\n",
       "</table>\n",
       "</div>"
      ],
      "text/plain": [
       "     name color  size                             geometry\n",
       "0  square   red     1  POLYGON ((0 0, 1 0, 1 1, 0 1, 0 0))"
      ]
     },
     "execution_count": 28,
     "metadata": {},
     "output_type": "execute_result"
    }
   ],
   "source": [
    "poly.to_gdf()"
   ]
  },
  {
   "cell_type": "code",
   "execution_count": 29,
   "metadata": {},
   "outputs": [
    {
     "data": {
      "text/plain": [
       "Polygon(coords=[(0, 0), (1, 0), (1, 1), (0, 1)], data={'name': 'square', 'color': 'red', 'size': 1, 'geometry': <POLYGON ((0 0, 1 0, 1 1, 0 1, 0 0))>}, origin=(0, 0), size=(1, 1))"
      ]
     },
     "execution_count": 29,
     "metadata": {},
     "output_type": "execute_result"
    }
   ],
   "source": [
    "poly"
   ]
  },
  {
   "cell_type": "code",
   "execution_count": null,
   "metadata": {},
   "outputs": [],
   "source": []
  },
  {
   "cell_type": "code",
   "execution_count": null,
   "metadata": {},
   "outputs": [],
   "source": []
  },
  {
   "cell_type": "code",
   "execution_count": null,
   "metadata": {},
   "outputs": [],
   "source": [
    "class mPolygon(Vector):\n",
    "    def __init__(\n",
    "        self, \n",
    "        origin: Optional[Tuple[float, float]] = None,\n",
    "        coords: Optional[List[Tuple[float, float]]] = None,\n",
    "        size: Optional[Tuple[float, float]] = None,\n",
    "        color: Optional[str] = 'blue',\n",
    "        alpha: Optional[float] = 0.5,\n",
    "        **kwargs\n",
    "        ):\n",
    "        \n",
    "\n",
    "        if origin is not None and size is not None:\n",
    "            self.coords = [\n",
    "                origin,\n",
    "                (origin[0] + size[0], origin[1]),\n",
    "                (origin[0] + size[0], origin[1] + size[1]),\n",
    "                (origin[0], origin[1] + size[1]),\n",
    "            ]\n",
    "        elif coords is not None:\n",
    "            self.coords = coords\n",
    "        else:\n",
    "            raise ValueError(\"Must provide either `origin` and `size`, or `coords`.\")\n",
    "            \n",
    "        self.geometry = Polygon(self.coords)\n",
    "        self.color = color\n",
    "        self.alpha = alpha\n",
    "\n",
    "        for key, value in kwargs.items():\n",
    "            setattr(self, key, value)\n",
    "\n",
    "\n"
   ]
  }
 ],
 "metadata": {
  "kernelspec": {
   "display_name": "maply_dev",
   "language": "python",
   "name": "python3"
  },
  "language_info": {
   "codemirror_mode": {
    "name": "ipython",
    "version": 3
   },
   "file_extension": ".py",
   "mimetype": "text/x-python",
   "name": "python",
   "nbconvert_exporter": "python",
   "pygments_lexer": "ipython3",
   "version": "3.12.0"
  }
 },
 "nbformat": 4,
 "nbformat_minor": 2
}
