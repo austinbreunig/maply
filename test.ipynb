{
 "cells": [
  {
   "cell_type": "code",
   "execution_count": 1,
   "metadata": {},
   "outputs": [],
   "source": [
    "from geometry import *"
   ]
  },
  {
   "cell_type": "code",
   "execution_count": 88,
   "metadata": {},
   "outputs": [],
   "source": [
    "from dataclasses import dataclass, field\n",
    "from typing import List, Tuple, Optional, Dict, Any, Union, Callable, Set, TypeVar, Generic, Iterable, Iterator, Sequence, Mapping\n",
    "from shapely.geometry import Polygon as ShapelyPolygon, Point as ShapelyPoint, LineString as ShapelyLineString, MultiPolygon as ShapelyMultiPolygon\n",
    "import geopandas as gpd\n",
    "import pandas as pd\n",
    "import numpy as np\n",
    "import random\n"
   ]
  },
  {
   "cell_type": "code",
   "execution_count": 90,
   "metadata": {},
   "outputs": [],
   "source": [
    "@dataclass\n",
    "class Shape:\n",
    "    coords: Optional[List[Tuple[float, float]]] = field(default=None)\n",
    "    data: Optional[dict] = None\n",
    "\n",
    "    def to_gdf(self) -> gpd.GeoDataFrame:\n",
    "        \"\"\"Convert shape to a GeoDataFrame.\"\"\"\n",
    "        gdf_dict = self.data or {}  # Use data if provided\n",
    "        gdf_dict[\"geometry\"] = self.geometry\n",
    "        return gpd.GeoDataFrame([gdf_dict])\n",
    "\n",
    "@dataclass\n",
    "class Polygon(Shape):\n",
    "    origin: Optional[Tuple[float, float]] = None\n",
    "    size: Optional[Tuple[float, float]] = None\n",
    "    def __post_init__(self):\n",
    "        if self.origin is not None and self.size is not None:\n",
    "            self.coords = [\n",
    "                self.origin,\n",
    "                (self.origin[0] + self.size[0], self.origin[1]),\n",
    "                (self.origin[0] + self.size[0], self.origin[1] + self.size[1]),\n",
    "                (self.origin[0], self.origin[1] + self.size[1]),\n",
    "            ]\n",
    "        elif self.coords is not None:\n",
    "            pass  # Use given coords\n",
    "        else:\n",
    "            raise ValueError(\"Must provide either `origin` and `size`, or `coords`.\")\n",
    "        \n",
    "        self.geometry = ShapelyPolygon(self.coords)\n",
    "\n",
    "    def split_grid(self, rows: int, cols: int) -> List['Polygon']:\n",
    "        \"\"\"Splits the polygon into a grid of `rows x cols` smaller polygons.\"\"\"\n",
    "        if self.size is None or self.origin is None:\n",
    "            raise ValueError(\"Grid splitting requires `origin` and `size`.\")\n",
    "\n",
    "        width, height = self.size[0] / cols, self.size[1] / rows\n",
    "        sub_polygons = []\n",
    "\n",
    "        for i in range(rows):\n",
    "            for j in range(cols):\n",
    "                sub_origin = (self.origin[0] + j * width, self.origin[1] + i * height)\n",
    "                sub_polygons.append(Polygon(origin=sub_origin, size=(width, height)))\n",
    "\n",
    "        return sub_polygons\n",
    "\n",
    "\n",
    "@dataclass\n",
    "class MultiPolygon(Shape):\n",
    "    polygons: List[Union['Polygon', List[List[float]]]] = None\n",
    "    data: Dict = field(default_factory=dict)\n",
    "    geometry: ShapelyMultiPolygon = field(init=False)\n",
    "\n",
    "    def __post_init__(self):\n",
    "        \"\"\"Convert input into a valid Shapely MultiPolygon.\"\"\"\n",
    "        processed_polygons = []\n",
    "        \n",
    "        for item in self.polygons:\n",
    "            if isinstance(item, Polygon):  # If a Polygon instance, use its geometry\n",
    "                processed_polygons.append(item.geometry)\n",
    "            elif isinstance(item, list):  # If a list of coordinates, create a Polygon\n",
    "                processed_polygons.append(ShapelyPolygon(item))\n",
    "            else:\n",
    "                raise TypeError(\"MultiPolygon must be initialized with Polygon instances or coordinate lists.\")\n",
    "\n",
    "        self.geometry = ShapelyMultiPolygon(processed_polygons)\n",
    "\n",
    "\n",
    "@dataclass\n",
    "class Line(Shape):\n",
    "    def __post_init__(self):\n",
    "        if self.coords is None:\n",
    "            raise ValueError(\"Must provide `coords`.\")\n",
    "        \n",
    "        self.geometry = ShapelyLineString(self.coords)"
   ]
  },
  {
   "cell_type": "code",
   "execution_count": 93,
   "metadata": {},
   "outputs": [],
   "source": [
    "multi_polygon = MultiPolygon(polygons=[\n",
    "    Polygon(origin=(0, 0), size=(1, 1)),\n",
    "    Polygon(origin=(4, 4), size=(1, 1))\n",
    "], data={\"name\": \"eample\", \"description\": \"A multi-polygon example\"})"
   ]
  },
  {
   "cell_type": "code",
   "execution_count": null,
   "metadata": {},
   "outputs": [],
   "source": []
  },
  {
   "cell_type": "code",
   "execution_count": 78,
   "metadata": {},
   "outputs": [],
   "source": [
    "poly = Polygon(origin=(0, 0), size=(10,10), data={\"name\": \"square\", \"color\": \"red\", \"size\": 1})"
   ]
  },
  {
   "cell_type": "code",
   "execution_count": 81,
   "metadata": {},
   "outputs": [],
   "source": [
    "sub_polygons = poly.split_grid(3, 3)\n",
    "for i, sub in enumerate(sub_polygons):\n",
    "    random_value = random.randint(0, 100)\n",
    "    sub.data = {\"name\": f\"{i}\", \"color\": \"blue\", \"size\": random_value}"
   ]
  },
  {
   "cell_type": "code",
   "execution_count": 82,
   "metadata": {},
   "outputs": [
    {
     "data": {
      "text/plain": [
       "<Axes: >"
      ]
     },
     "execution_count": 82,
     "metadata": {},
     "output_type": "execute_result"
    },
    {
     "data": {
      "image/png": "[encoded data removed]",
      "text/plain": [
       "<Figure size 640x480 with 1 Axes>"
      ]
     },
     "metadata": {},
     "output_type": "display_data"
    }
   ],
   "source": [
    "\n",
    "all_polys = pd.concat([p.to_gdf() for p in sub_polygons])\n",
    "all_polys = all_polys.reset_index()\n",
    "all_polys.plot('size', cmap='viridis', edgecolor='black')"
   ]
  },
  {
   "cell_type": "code",
   "execution_count": 44,
   "metadata": {},
   "outputs": [],
   "source": [
    "poly.data[\"utils\"] = False"
   ]
  },
  {
   "cell_type": "code",
   "execution_count": 46,
   "metadata": {},
   "outputs": [
    {
     "data": {
      "text/html": [
       "<div>\n",
       "<style scoped>\n",
       "    .dataframe tbody tr th:only-of-type {\n",
       "        vertical-align: middle;\n",
       "    }\n",
       "\n",
       "    .dataframe tbody tr th {\n",
       "        vertical-align: top;\n",
       "    }\n",
       "\n",
       "    .dataframe thead th {\n",
       "        text-align: right;\n",
       "    }\n",
       "</style>\n",
       "<table border=\"1\" class=\"dataframe\">\n",
       "  <thead>\n",
       "    <tr style=\"text-align: right;\">\n",
       "      <th></th>\n",
       "      <th>name</th>\n",
       "      <th>color</th>\n",
       "      <th>size</th>\n",
       "      <th>utils</th>\n",
       "      <th>geometry</th>\n",
       "    </tr>\n",
       "  </thead>\n",
       "  <tbody>\n",
       "    <tr>\n",
       "      <th>0</th>\n",
       "      <td>square</td>\n",
       "      <td>red</td>\n",
       "      <td>1</td>\n",
       "      <td>False</td>\n",
       "      <td>POLYGON ((0 0, 1 0, 1 1, 0 1, 0 0))</td>\n",
       "    </tr>\n",
       "  </tbody>\n",
       "</table>\n",
       "</div>"
      ],
      "text/plain": [
       "     name color  size  utils                             geometry\n",
       "0  square   red     1  False  POLYGON ((0 0, 1 0, 1 1, 0 1, 0 0))"
      ]
     },
     "execution_count": 46,
     "metadata": {},
     "output_type": "execute_result"
    }
   ],
   "source": [
    "poly.to_gdf()"
   ]
  },
  {
   "cell_type": "code",
   "execution_count": 40,
   "metadata": {},
   "outputs": [
    {
     "data": {
      "text/html": [
       "<div>\n",
       "<style scoped>\n",
       "    .dataframe tbody tr th:only-of-type {\n",
       "        vertical-align: middle;\n",
       "    }\n",
       "\n",
       "    .dataframe tbody tr th {\n",
       "        vertical-align: top;\n",
       "    }\n",
       "\n",
       "    .dataframe thead th {\n",
       "        text-align: right;\n",
       "    }\n",
       "</style>\n",
       "<table border=\"1\" class=\"dataframe\">\n",
       "  <thead>\n",
       "    <tr style=\"text-align: right;\">\n",
       "      <th></th>\n",
       "      <th>name</th>\n",
       "      <th>color</th>\n",
       "      <th>size</th>\n",
       "      <th>geometry</th>\n",
       "    </tr>\n",
       "  </thead>\n",
       "  <tbody>\n",
       "    <tr>\n",
       "      <th>0</th>\n",
       "      <td>line</td>\n",
       "      <td>red</td>\n",
       "      <td>2</td>\n",
       "      <td>LINESTRING (0 0, 1 1)</td>\n",
       "    </tr>\n",
       "    <tr>\n",
       "      <th>1</th>\n",
       "      <td>square</td>\n",
       "      <td>red</td>\n",
       "      <td>1</td>\n",
       "      <td>POLYGON ((0 0, 1 0, 1 1, 0 1, 0 0))</td>\n",
       "    </tr>\n",
       "  </tbody>\n",
       "</table>\n",
       "</div>"
      ],
      "text/plain": [
       "     name color  size                             geometry\n",
       "0    line   red     2                LINESTRING (0 0, 1 1)\n",
       "1  square   red     1  POLYGON ((0 0, 1 0, 1 1, 0 1, 0 0))"
      ]
     },
     "execution_count": 40,
     "metadata": {},
     "output_type": "execute_result"
    }
   ],
   "source": [
    "all_shapes = pd.concat([line.to_gdf(), poly.to_gdf()], ignore_index=True)\n",
    "all_shapes"
   ]
  },
  {
   "cell_type": "code",
   "execution_count": 28,
   "metadata": {},
   "outputs": [
    {
     "data": {
      "text/html": [
       "<div>\n",
       "<style scoped>\n",
       "    .dataframe tbody tr th:only-of-type {\n",
       "        vertical-align: middle;\n",
       "    }\n",
       "\n",
       "    .dataframe tbody tr th {\n",
       "        vertical-align: top;\n",
       "    }\n",
       "\n",
       "    .dataframe thead th {\n",
       "        text-align: right;\n",
       "    }\n",
       "</style>\n",
       "<table border=\"1\" class=\"dataframe\">\n",
       "  <thead>\n",
       "    <tr style=\"text-align: right;\">\n",
       "      <th></th>\n",
       "      <th>name</th>\n",
       "      <th>color</th>\n",
       "      <th>size</th>\n",
       "      <th>geometry</th>\n",
       "    </tr>\n",
       "  </thead>\n",
       "  <tbody>\n",
       "    <tr>\n",
       "      <th>0</th>\n",
       "      <td>square</td>\n",
       "      <td>red</td>\n",
       "      <td>1</td>\n",
       "      <td>POLYGON ((0 0, 1 0, 1 1, 0 1, 0 0))</td>\n",
       "    </tr>\n",
       "  </tbody>\n",
       "</table>\n",
       "</div>"
      ],
      "text/plain": [
       "     name color  size                             geometry\n",
       "0  square   red     1  POLYGON ((0 0, 1 0, 1 1, 0 1, 0 0))"
      ]
     },
     "execution_count": 28,
     "metadata": {},
     "output_type": "execute_result"
    }
   ],
   "source": [
    "poly.to_gdf()"
   ]
  },
  {
   "cell_type": "code",
   "execution_count": 29,
   "metadata": {},
   "outputs": [
    {
     "data": {
      "text/plain": [
       "Polygon(coords=[(0, 0), (1, 0), (1, 1), (0, 1)], data={'name': 'square', 'color': 'red', 'size': 1, 'geometry': <POLYGON ((0 0, 1 0, 1 1, 0 1, 0 0))>}, origin=(0, 0), size=(1, 1))"
      ]
     },
     "execution_count": 29,
     "metadata": {},
     "output_type": "execute_result"
    }
   ],
   "source": [
    "poly"
   ]
  },
  {
   "cell_type": "code",
   "execution_count": null,
   "metadata": {},
   "outputs": [],
   "source": []
  },
  {
   "cell_type": "code",
   "execution_count": null,
   "metadata": {},
   "outputs": [],
   "source": []
  },
  {
   "cell_type": "code",
   "execution_count": null,
   "metadata": {},
   "outputs": [],
   "source": [
    "class mPolygon(Vector):\n",
    "    def __init__(\n",
    "        self, \n",
    "        origin: Optional[Tuple[float, float]] = None,\n",
    "        coords: Optional[List[Tuple[float, float]]] = None,\n",
    "        size: Optional[Tuple[float, float]] = None,\n",
    "        color: Optional[str] = 'blue',\n",
    "        alpha: Optional[float] = 0.5,\n",
    "        **kwargs\n",
    "        ):\n",
    "        \n",
    "\n",
    "        if origin is not None and size is not None:\n",
    "            self.coords = [\n",
    "                origin,\n",
    "                (origin[0] + size[0], origin[1]),\n",
    "                (origin[0] + size[0], origin[1] + size[1]),\n",
    "                (origin[0], origin[1] + size[1]),\n",
    "            ]\n",
    "        elif coords is not None:\n",
    "            self.coords = coords\n",
    "        else:\n",
    "            raise ValueError(\"Must provide either `origin` and `size`, or `coords`.\")\n",
    "            \n",
    "        self.geometry = Polygon(self.coords)\n",
    "        self.color = color\n",
    "        self.alpha = alpha\n",
    "\n",
    "        for key, value in kwargs.items():\n",
    "            setattr(self, key, value)\n",
    "\n",
    "\n"
   ]
  }
 ],
 "metadata": {
  "kernelspec": {
   "display_name": "maply_dev",
   "language": "python",
   "name": "python3"
  },
  "language_info": {
   "codemirror_mode": {
    "name": "ipython",
    "version": 3
   },
   "file_extension": ".py",
   "mimetype": "text/x-python",
   "name": "python",
   "nbconvert_exporter": "python",
   "pygments_lexer": "ipython3",
   "version": "3.12.0"
  }
 },
 "nbformat": 4,
 "nbformat_minor": 2
}
